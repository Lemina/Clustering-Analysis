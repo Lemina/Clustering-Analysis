{
 "cells": [
  {
   "cell_type": "code",
   "execution_count": 15,
   "metadata": {},
   "outputs": [],
   "source": [
    "from pandas import Series, DataFrame\n",
    "import pandas as pd\n",
    "import numpy as np\n",
    "import matplotlib.pylab as plt\n",
    "from sklearn.cross_validation import train_test_split\n",
    "from sklearn import preprocessing\n",
    "from sklearn.cluster import KMeans"
   ]
  },
  {
   "cell_type": "code",
   "execution_count": 16,
   "metadata": {},
   "outputs": [],
   "source": [
    "data = pd.read_csv(\"/home/lemina/Downloads/tree_addhealth.csv\")\n",
    "\n",
    "#upper-case all DataFrame column names\n",
    "data.columns = map(str.upper, data.columns)\n",
    "\n",
    "# Data Management\n",
    "\n",
    "data_clean = data.dropna()"
   ]
  },
  {
   "cell_type": "code",
   "execution_count": null,
   "metadata": {},
   "outputs": [],
   "source": []
  },
  {
   "cell_type": "code",
   "execution_count": 17,
   "metadata": {},
   "outputs": [
    {
     "data": {
      "text/html": [
       "<div>\n",
       "<style scoped>\n",
       "    .dataframe tbody tr th:only-of-type {\n",
       "        vertical-align: middle;\n",
       "    }\n",
       "\n",
       "    .dataframe tbody tr th {\n",
       "        vertical-align: top;\n",
       "    }\n",
       "\n",
       "    .dataframe thead th {\n",
       "        text-align: right;\n",
       "    }\n",
       "</style>\n",
       "<table border=\"1\" class=\"dataframe\">\n",
       "  <thead>\n",
       "    <tr style=\"text-align: right;\">\n",
       "      <th></th>\n",
       "      <th>ALCEVR1</th>\n",
       "      <th>MAREVER1</th>\n",
       "      <th>ALCPROBS1</th>\n",
       "      <th>VIOL1</th>\n",
       "      <th>DEP1</th>\n",
       "      <th>ESTEEM1</th>\n",
       "      <th>SCHCONN1</th>\n",
       "      <th>PARACTV</th>\n",
       "      <th>PARPRES</th>\n",
       "      <th>FAMCONCT</th>\n",
       "      <th>GPA1</th>\n",
       "    </tr>\n",
       "  </thead>\n",
       "  <tbody>\n",
       "    <tr>\n",
       "      <th>count</th>\n",
       "      <td>4575.000000</td>\n",
       "      <td>4575.000000</td>\n",
       "      <td>4575.000000</td>\n",
       "      <td>4575.000000</td>\n",
       "      <td>4575.000000</td>\n",
       "      <td>4575.000000</td>\n",
       "      <td>4575.000000</td>\n",
       "      <td>4575.000000</td>\n",
       "      <td>4575.000000</td>\n",
       "      <td>4575.000000</td>\n",
       "      <td>4575.000000</td>\n",
       "    </tr>\n",
       "    <tr>\n",
       "      <th>mean</th>\n",
       "      <td>0.527432</td>\n",
       "      <td>0.241967</td>\n",
       "      <td>0.369180</td>\n",
       "      <td>1.618579</td>\n",
       "      <td>8.537049</td>\n",
       "      <td>40.952131</td>\n",
       "      <td>28.360656</td>\n",
       "      <td>6.290710</td>\n",
       "      <td>13.398033</td>\n",
       "      <td>22.570557</td>\n",
       "      <td>2.815647</td>\n",
       "    </tr>\n",
       "    <tr>\n",
       "      <th>std</th>\n",
       "      <td>0.499302</td>\n",
       "      <td>0.428321</td>\n",
       "      <td>0.894947</td>\n",
       "      <td>2.593230</td>\n",
       "      <td>6.571052</td>\n",
       "      <td>5.381439</td>\n",
       "      <td>5.156385</td>\n",
       "      <td>3.360219</td>\n",
       "      <td>2.085837</td>\n",
       "      <td>2.614754</td>\n",
       "      <td>0.770167</td>\n",
       "    </tr>\n",
       "    <tr>\n",
       "      <th>min</th>\n",
       "      <td>0.000000</td>\n",
       "      <td>0.000000</td>\n",
       "      <td>0.000000</td>\n",
       "      <td>0.000000</td>\n",
       "      <td>0.000000</td>\n",
       "      <td>18.000000</td>\n",
       "      <td>6.000000</td>\n",
       "      <td>0.000000</td>\n",
       "      <td>3.000000</td>\n",
       "      <td>6.300000</td>\n",
       "      <td>1.000000</td>\n",
       "    </tr>\n",
       "    <tr>\n",
       "      <th>25%</th>\n",
       "      <td>0.000000</td>\n",
       "      <td>0.000000</td>\n",
       "      <td>0.000000</td>\n",
       "      <td>0.000000</td>\n",
       "      <td>4.000000</td>\n",
       "      <td>38.000000</td>\n",
       "      <td>25.000000</td>\n",
       "      <td>4.000000</td>\n",
       "      <td>12.000000</td>\n",
       "      <td>21.700000</td>\n",
       "      <td>2.250000</td>\n",
       "    </tr>\n",
       "    <tr>\n",
       "      <th>50%</th>\n",
       "      <td>1.000000</td>\n",
       "      <td>0.000000</td>\n",
       "      <td>0.000000</td>\n",
       "      <td>0.000000</td>\n",
       "      <td>7.000000</td>\n",
       "      <td>40.000000</td>\n",
       "      <td>29.000000</td>\n",
       "      <td>6.000000</td>\n",
       "      <td>14.000000</td>\n",
       "      <td>23.700000</td>\n",
       "      <td>2.750000</td>\n",
       "    </tr>\n",
       "    <tr>\n",
       "      <th>75%</th>\n",
       "      <td>1.000000</td>\n",
       "      <td>0.000000</td>\n",
       "      <td>0.000000</td>\n",
       "      <td>2.000000</td>\n",
       "      <td>12.000000</td>\n",
       "      <td>45.000000</td>\n",
       "      <td>32.000000</td>\n",
       "      <td>9.000000</td>\n",
       "      <td>15.000000</td>\n",
       "      <td>24.300000</td>\n",
       "      <td>3.500000</td>\n",
       "    </tr>\n",
       "    <tr>\n",
       "      <th>max</th>\n",
       "      <td>1.000000</td>\n",
       "      <td>1.000000</td>\n",
       "      <td>6.000000</td>\n",
       "      <td>19.000000</td>\n",
       "      <td>48.000000</td>\n",
       "      <td>50.000000</td>\n",
       "      <td>38.000000</td>\n",
       "      <td>18.000000</td>\n",
       "      <td>15.000000</td>\n",
       "      <td>25.000000</td>\n",
       "      <td>4.000000</td>\n",
       "    </tr>\n",
       "  </tbody>\n",
       "</table>\n",
       "</div>"
      ],
      "text/plain": [
       "           ALCEVR1     MAREVER1    ALCPROBS1        VIOL1         DEP1  \\\n",
       "count  4575.000000  4575.000000  4575.000000  4575.000000  4575.000000   \n",
       "mean      0.527432     0.241967     0.369180     1.618579     8.537049   \n",
       "std       0.499302     0.428321     0.894947     2.593230     6.571052   \n",
       "min       0.000000     0.000000     0.000000     0.000000     0.000000   \n",
       "25%       0.000000     0.000000     0.000000     0.000000     4.000000   \n",
       "50%       1.000000     0.000000     0.000000     0.000000     7.000000   \n",
       "75%       1.000000     0.000000     0.000000     2.000000    12.000000   \n",
       "max       1.000000     1.000000     6.000000    19.000000    48.000000   \n",
       "\n",
       "           ESTEEM1     SCHCONN1      PARACTV      PARPRES     FAMCONCT  \\\n",
       "count  4575.000000  4575.000000  4575.000000  4575.000000  4575.000000   \n",
       "mean     40.952131    28.360656     6.290710    13.398033    22.570557   \n",
       "std       5.381439     5.156385     3.360219     2.085837     2.614754   \n",
       "min      18.000000     6.000000     0.000000     3.000000     6.300000   \n",
       "25%      38.000000    25.000000     4.000000    12.000000    21.700000   \n",
       "50%      40.000000    29.000000     6.000000    14.000000    23.700000   \n",
       "75%      45.000000    32.000000     9.000000    15.000000    24.300000   \n",
       "max      50.000000    38.000000    18.000000    15.000000    25.000000   \n",
       "\n",
       "              GPA1  \n",
       "count  4575.000000  \n",
       "mean      2.815647  \n",
       "std       0.770167  \n",
       "min       1.000000  \n",
       "25%       2.250000  \n",
       "50%       2.750000  \n",
       "75%       3.500000  \n",
       "max       4.000000  "
      ]
     },
     "execution_count": 17,
     "metadata": {},
     "output_type": "execute_result"
    }
   ],
   "source": [
    "cluster=data_clean[['ALCEVR1','MAREVER1','ALCPROBS1','VIOL1',\n",
    "'DEP1','ESTEEM1','SCHCONN1','PARACTV', 'PARPRES','FAMCONCT','GPA1']]\n",
    "cluster.describe()"
   ]
  },
  {
   "cell_type": "code",
   "execution_count": null,
   "metadata": {},
   "outputs": [],
   "source": []
  },
  {
   "cell_type": "code",
   "execution_count": 18,
   "metadata": {},
   "outputs": [],
   "source": [
    "# standardize clustering variables to have mean=0 and sd=1\n",
    "clustervar=cluster.copy()\n",
    "clustervar['ALCEVR1']=preprocessing.scale(clustervar['ALCEVR1'].astype('float64'))\n",
    "clustervar['ALCPROBS1']=preprocessing.scale(clustervar['ALCPROBS1'].astype('float64'))\n",
    "clustervar['MAREVER1']=preprocessing.scale(clustervar['MAREVER1'].astype('float64'))\n",
    "clustervar['DEP1']=preprocessing.scale(clustervar['DEP1'].astype('float64'))\n",
    "clustervar['ESTEEM1']=preprocessing.scale(clustervar['ESTEEM1'].astype('float64'))\n",
    "clustervar['VIOL1']=preprocessing.scale(clustervar['VIOL1'].astype('float64'))\n",
    "clustervar['GPA1']=preprocessing.scale(clustervar['GPA1'].astype('float64'))\n",
    "clustervar['FAMCONCT']=preprocessing.scale(clustervar['FAMCONCT'].astype('float64'))\n",
    "clustervar['SCHCONN1']=preprocessing.scale(clustervar['SCHCONN1'].astype('float64'))\n",
    "clustervar['PARACTV']=preprocessing.scale(clustervar['PARACTV'].astype('float64'))\n",
    "clustervar['PARPRES']=preprocessing.scale(clustervar['PARPRES'].astype('float64'))"
   ]
  },
  {
   "cell_type": "code",
   "execution_count": 19,
   "metadata": {},
   "outputs": [],
   "source": [
    "# split data into train and test sets\n",
    "clus_train, clus_test = train_test_split(clustervar, test_size=.3, random_state=123)"
   ]
  },
  {
   "cell_type": "code",
   "execution_count": 30,
   "metadata": {},
   "outputs": [],
   "source": [
    "# k-means cluster analysis for 1-7 clusters                                                           \n",
    "from scipy.spatial.distance import cdist\n",
    "clusters=range(1,8)\n",
    "meandist=[]\n",
    "\n",
    "for k in clusters:\n",
    "    model=KMeans(n_clusters=k)\n",
    "    model.fit(clus_train)\n",
    "    clusassign=model.predict(clus_train)\n",
    "    meandist.append(sum(np.min(cdist(clus_train, model.cluster_centers_, 'euclidean'), axis=1)) \n",
    "    / clus_train.shape[0])\n"
   ]
  },
  {
   "cell_type": "code",
   "execution_count": 31,
   "metadata": {},
   "outputs": [
    {
     "data": {
      "text/plain": [
       "Text(0.5,1,u'Selecting k with the Elbow Method')"
      ]
     },
     "execution_count": 31,
     "metadata": {},
     "output_type": "execute_result"
    },
    {
     "data": {
      "image/png": "[encoded data removed]",
      "text/plain": [
       "<matplotlib.figure.Figure at 0x7fb9424b5810>"
      ]
     },
     "metadata": {},
     "output_type": "display_data"
    }
   ],
   "source": [
    "plt.plot(clusters, meandist)\n",
    "plt.xlabel('Number of clusters')\n",
    "plt.ylabel('Average distance')\n",
    "plt.title('Selecting k with the Elbow Method')"
   ]
  },
  {
   "cell_type": "code",
   "execution_count": 44,
   "metadata": {},
   "outputs": [],
   "source": [
    "# Interpret 3 cluster solution\n",
    "model3=KMeans(n_clusters=3)\n",
    "model3.fit(clus_train)\n",
    "clusassign=model3.predict(clus_train)"
   ]
  },
  {
   "cell_type": "code",
   "execution_count": 45,
   "metadata": {
    "scrolled": true
   },
   "outputs": [
    {
     "data": {
      "image/png": "[encoded data removed]",
      "text/plain": [
       "<matplotlib.figure.Figure at 0x7fb934d2a490>"
      ]
     },
     "metadata": {},
     "output_type": "display_data"
    }
   ],
   "source": [
    "# plot clusters\n",
    "\n",
    "from sklearn.decomposition import PCA\n",
    "pca_2 = PCA(2)\n",
    "plot_columns = pca_2.fit_transform(clus_train)\n",
    "plt.scatter(x=plot_columns[:,0], y=plot_columns[:,1], c=model3.labels_,)\n",
    "plt.xlabel('Canonical variable 1')\n",
    "plt.ylabel('Canonical variable 2')\n",
    "plt.title('Scatterplot of Canonical Variables for 3 Clusters')\n",
    "plt.show()\n"
   ]
  },
  {
   "cell_type": "code",
   "execution_count": 47,
   "metadata": {},
   "outputs": [],
   "source": [
    "clus_train.reset_index(level=0, inplace=True)\n",
    "cluslist=list(clus_train['index'])\n",
    "labels=list(model3.labels_)\n",
    "newlist=dict(zip(cluslist, labels))\n",
    "newlist\n",
    "newclus=DataFrame.from_dict(newlist, orient='index')\n",
    "newclus\n",
    "newclus.columns = ['cluster']"
   ]
  },
  {
   "cell_type": "code",
   "execution_count": 48,
   "metadata": {},
   "outputs": [
    {
     "data": {
      "text/plain": [
       "0    1394\n",
       "1    1135\n",
       "2     673\n",
       "Name: cluster, dtype: int64"
      ]
     },
     "execution_count": 48,
     "metadata": {},
     "output_type": "execute_result"
    }
   ],
   "source": [
    "newclus.reset_index(level=0, inplace=True)\n",
    "merged_train=pd.merge(clus_train, newclus, on='index')\n",
    "merged_train.head(n=100)\n",
    "merged_train.cluster.value_counts()"
   ]
  },
  {
   "cell_type": "code",
   "execution_count": 49,
   "metadata": {},
   "outputs": [
    {
     "name": "stdout",
     "output_type": "stream",
     "text": [
      "Clustering variable means by cluster\n",
      "             level_0        index   ALCEVR1  MAREVER1  ALCPROBS1     VIOL1  \\\n",
      "cluster                                                                      \n",
      "0        1578.804878  3261.581779 -1.056455 -0.471182  -0.412562 -0.256268   \n",
      "1        1629.444053  3329.983260  0.946562  0.013099   0.009827 -0.113520   \n",
      "2        1596.624071  3261.956909  0.583460  0.958114   0.773025  0.681181   \n",
      "\n",
      "             DEP1   ESTEEM1  SCHCONN1   PARACTV   PARPRES  FAMCONCT      GPA1  \n",
      "cluster                                                                        \n",
      "0       -0.319318  0.235002  0.359005  0.110758  0.175811  0.332808  0.257947  \n",
      "1       -0.191027  0.230108  0.159890  0.187507  0.126410  0.245775  0.069399  \n",
      "2        0.897267 -0.784186 -1.005145 -0.514178 -0.557757 -1.057826 -0.637247  \n"
     ]
    }
   ],
   "source": [
    "clustergrp = merged_train.groupby('cluster').mean()\n",
    "print (\"Clustering variable means by cluster\")\n",
    "print(clustergrp)\n"
   ]
  },
  {
   "cell_type": "code",
   "execution_count": 50,
   "metadata": {},
   "outputs": [],
   "source": [
    "deviant_data=data_clean['DEVIANT1']"
   ]
  },
  {
   "cell_type": "code",
   "execution_count": 51,
   "metadata": {},
   "outputs": [],
   "source": [
    "deviant_train, deviant_test = train_test_split(deviant_data, test_size=.3, random_state=123)\n",
    "deviant_train1=pd.DataFrame(deviant_train)\n",
    "deviant_train1.reset_index(level=0, inplace=True)\n",
    "merged_train_all=pd.merge(deviant_train1, merged_train, on='index')\n",
    "sub1 = merged_train_all[['DEVIANT1', 'cluster']].dropna()"
   ]
  },
  {
   "cell_type": "code",
   "execution_count": 55,
   "metadata": {},
   "outputs": [],
   "source": [
    "import statsmodels.formula.api as smf\n",
    "import statsmodels.stats.multicomp as multi "
   ]
  },
  {
   "cell_type": "code",
   "execution_count": 56,
   "metadata": {},
   "outputs": [
    {
     "name": "stdout",
     "output_type": "stream",
     "text": [
      "                            OLS Regression Results                            \n",
      "==============================================================================\n",
      "Dep. Variable:               DEVIANT1   R-squared:                       0.245\n",
      "Model:                            OLS   Adj. R-squared:                  0.244\n",
      "Method:                 Least Squares   F-statistic:                     518.6\n",
      "Date:                Tue, 16 Jan 2018   Prob (F-statistic):          8.29e-196\n",
      "Time:                        14:53:28   Log-Likelihood:                -8072.1\n",
      "No. Observations:                3202   AIC:                         1.615e+04\n",
      "Df Residuals:                    3199   BIC:                         1.617e+04\n",
      "Df Model:                           2                                         \n",
      "Covariance Type:            nonrobust                                         \n",
      "===================================================================================\n",
      "                      coef    std err          t      P>|t|      [0.025      0.975]\n",
      "-----------------------------------------------------------------------------------\n",
      "Intercept           1.1399      0.081     14.132      0.000       0.982       1.298\n",
      "C(cluster)[T.1]     1.4566      0.120     12.097      0.000       1.221       1.693\n",
      "C(cluster)[T.2]     4.5525      0.141     32.205      0.000       4.275       4.830\n",
      "==============================================================================\n",
      "Omnibus:                     1504.692   Durbin-Watson:                   2.009\n",
      "Prob(Omnibus):                  0.000   Jarque-Bera (JB):            11041.362\n",
      "Skew:                           2.100   Prob(JB):                         0.00\n",
      "Kurtosis:                      11.069   Cond. No.                         3.44\n",
      "==============================================================================\n",
      "\n",
      "Warnings:\n",
      "[1] Standard Errors assume that the covariance matrix of the errors is correctly specified.\n",
      "means for DEVIANT1 by cluster\n",
      "         DEVIANT1\n",
      "cluster          \n",
      "0        1.139885\n",
      "1        2.596476\n",
      "2        5.692422\n",
      "standard deviations for DEVIANT1 by cluster\n",
      "         DEVIANT1\n",
      "cluster          \n",
      "0        1.939820\n",
      "1        2.658583\n",
      "2        4.842356\n",
      "Multiple Comparison of Means - Tukey HSD,FWER=0.05\n",
      "===========================================\n",
      "group1 group2 meandiff lower  upper  reject\n",
      "-------------------------------------------\n",
      "  0      1     1.4566  1.1743 1.7389  True \n",
      "  0      2     4.5525  4.2211 4.884   True \n",
      "  1      2     3.0959  2.7524 3.4395  True \n",
      "-------------------------------------------\n"
     ]
    }
   ],
   "source": [
    "deviantmod = smf.ols(formula='DEVIANT1 ~ C(cluster)', data=sub1).fit()\n",
    "print (deviantmod.summary())\n",
    "\n",
    "print ('means for DEVIANT1 by cluster')\n",
    "m1= sub1.groupby('cluster').mean()\n",
    "print (m1)\n",
    "\n",
    "print ('standard deviations for DEVIANT1 by cluster')\n",
    "m2= sub1.groupby('cluster').std()\n",
    "print (m2)\n",
    "\n",
    "mc1 = multi.MultiComparison(sub1['DEVIANT1'], sub1['cluster'])\n",
    "res1 = mc1.tukeyhsd()\n",
    "print(res1.summary())\n"
   ]
  },
  {
   "cell_type": "code",
   "execution_count": null,
   "metadata": {},
   "outputs": [],
   "source": []
  }
 ],
 "metadata": {
  "kernelspec": {
   "display_name": "Python 3",
   "language": "python",
   "name": "python3"
  },
  "language_info": {
   "codemirror_mode": {
    "name": "ipython",
    "version": 2
   },
   "file_extension": ".py",
   "mimetype": "text/x-python",
   "name": "python",
   "nbconvert_exporter": "python",
   "pygments_lexer": "ipython2",
   "version": "2.7.12"
  }
 },
 "nbformat": 4,
 "nbformat_minor": 2
}
